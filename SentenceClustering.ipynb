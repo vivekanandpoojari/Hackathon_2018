{
 "cells": [
  {
   "cell_type": "code",
   "execution_count": 17,
   "metadata": {},
   "outputs": [],
   "source": [
    "from sklearn.feature_extraction.text import TfidfVectorizer\n",
    "from sklearn.cluster import KMeans\n",
    "from sklearn.metrics import adjusted_rand_score"
   ]
  },
  {
   "cell_type": "code",
   "execution_count": 18,
   "metadata": {},
   "outputs": [],
   "source": [
    "documents = [\"my lan cable is connected\",\n",
    "             \"please give me the eta for this problem\",\n",
    "             \"my modem is not working\",\n",
    "             \"the light of the modem is not blinking\",\n",
    "             \"i dont get the wifi signal at hall\",\n",
    "             \"the wifi signal is very poor\",\n",
    "             \"when will this problem be fixed\",\n",
    "             \"my regsitered account number is xxxxx\"]"
   ]
  },
  {
   "cell_type": "code",
   "execution_count": 19,
   "metadata": {},
   "outputs": [],
   "source": [
    "vectorizer = TfidfVectorizer(stop_words='english')\n",
    "X = vectorizer.fit_transform(documents)"
   ]
  },
  {
   "cell_type": "code",
   "execution_count": 20,
   "metadata": {},
   "outputs": [
    {
     "name": "stdout",
     "output_type": "stream",
     "text": [
      "  (0, 8)\t0.5773502691896258\n",
      "  (0, 2)\t0.5773502691896258\n",
      "  (0, 3)\t0.5773502691896258\n",
      "  (1, 5)\t0.7664298449085388\n",
      "  (1, 13)\t0.6423280258820045\n",
      "  (2, 10)\t0.6423280258820045\n",
      "  (2, 17)\t0.7664298449085388\n",
      "  (3, 10)\t0.5098138992318764\n",
      "  (3, 9)\t0.6083131546128155\n",
      "  (3, 1)\t0.6083131546128155\n",
      "  (4, 4)\t0.5419477406385818\n",
      "  (4, 16)\t0.45419450284733365\n",
      "  (4, 15)\t0.45419450284733365\n",
      "  (4, 7)\t0.5419477406385818\n",
      "  (5, 16)\t0.540442546068122\n",
      "  (5, 15)\t0.540442546068122\n",
      "  (5, 12)\t0.6448594488714666\n",
      "  (6, 13)\t0.6423280258820045\n",
      "  (6, 6)\t0.7664298449085388\n",
      "  (7, 14)\t0.5\n",
      "  (7, 0)\t0.5\n",
      "  (7, 11)\t0.5\n",
      "  (7, 18)\t0.5\n"
     ]
    }
   ],
   "source": [
    "print(X)"
   ]
  },
  {
   "cell_type": "code",
   "execution_count": 23,
   "metadata": {},
   "outputs": [
    {
     "data": {
      "text/plain": [
       "KMeans(algorithm='auto', copy_x=True, init='k-means++', max_iter=100,\n",
       "    n_clusters=2, n_init=1, n_jobs=1, precompute_distances='auto',\n",
       "    random_state=None, tol=0.0001, verbose=0)"
      ]
     },
     "execution_count": 23,
     "metadata": {},
     "output_type": "execute_result"
    }
   ],
   "source": [
    "true_k = 2\n",
    "model = KMeans(n_clusters=true_k, init='k-means++', max_iter=100, n_init=1)\n",
    "model.fit(X)"
   ]
  },
  {
   "cell_type": "code",
   "execution_count": null,
   "metadata": {},
   "outputs": [],
   "source": []
  },
  {
   "cell_type": "code",
   "execution_count": 24,
   "metadata": {},
   "outputs": [
    {
     "name": "stdout",
     "output_type": "stream",
     "text": [
      "Top terms per cluster:\n",
      "['account', 'blinking', 'cable', 'connected', 'dont', 'eta', 'fixed', 'hall', 'lan', 'light', 'modem', 'number', 'poor', 'problem', 'regsitered', 'signal', 'wifi', 'working', 'xxxxx']\n",
      "Cluster 0:\n",
      " problem\n",
      " wifi\n",
      " signal\n",
      " fixed\n",
      " eta\n",
      " poor\n",
      " cable\n",
      " connected\n",
      " lan\n",
      " dont\n",
      "Cluster 1:\n",
      " modem\n",
      " working\n",
      " light\n",
      " blinking\n",
      " hall\n",
      " cable\n",
      " connected\n",
      " dont\n",
      " eta\n",
      " fixed\n"
     ]
    }
   ],
   "source": [
    "print(\"Top terms per cluster:\")\n",
    "order_centroids = model.cluster_centers_.argsort()[:, ::-1]\n",
    "terms = vectorizer.get_feature_names()\n",
    "print(terms)\n",
    "for i in range(true_k):\n",
    "    print(\"Cluster %d:\" % i)\n",
    "    for ind in order_centroids[i, :10]:\n",
    "        print(' %s' % terms[ind])"
   ]
  },
  {
   "cell_type": "code",
   "execution_count": null,
   "metadata": {},
   "outputs": [],
   "source": []
  }
 ],
 "metadata": {
  "kernelspec": {
   "display_name": "Python 3",
   "language": "python",
   "name": "python3"
  },
  "language_info": {
   "codemirror_mode": {
    "name": "ipython",
    "version": 3
   },
   "file_extension": ".py",
   "mimetype": "text/x-python",
   "name": "python",
   "nbconvert_exporter": "python",
   "pygments_lexer": "ipython3",
   "version": "3.4.3"
  }
 },
 "nbformat": 4,
 "nbformat_minor": 2
}
